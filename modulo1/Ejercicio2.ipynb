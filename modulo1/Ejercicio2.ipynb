{
 "cells": [
  {
   "cell_type": "markdown",
   "id": "6a259979-23dc-4cca-b953-c39265e50d7b",
   "metadata": {},
   "source": [
    "# SUBSTITUCION"
   ]
  },
  {
   "cell_type": "markdown",
   "id": "252c9da7-3bd3-4f0e-87f4-84a06e03d562",
   "metadata": {},
   "source": [
    "JTREKYAVOGDXPSNCUIZLFBMWHQ"
   ]
  },
  {
   "cell_type": "code",
   "execution_count": 13,
   "id": "ab91f5f2-6772-4e8a-9be8-c633485b3076",
   "metadata": {},
   "outputs": [],
   "source": [
    "def sustitucion(plaintext):\n",
    "    nuevoabc = 'JTREKYAVOGDXPSNCUIZLFBMWHQ'\n",
    "    abc = 'ABCDEFGHIJKLMNOPQRSTUVWXYZ'\n",
    "    ciphertext = ''\n",
    "    for i in plaintext :\n",
    "        ciphertext += nuevoabc[abc.find(i.upper())]\n",
    "    print(f'ciphertext: {ciphertext}.')\n",
    "    return ciphertext"
   ]
  },
  {
   "cell_type": "code",
   "execution_count": 14,
   "id": "cb3375ca-eb98-4960-90bd-348aeddd8c40",
   "metadata": {},
   "outputs": [
    {
     "name": "stdin",
     "output_type": "stream",
     "text": [
      "plaintext:  hello\n"
     ]
    },
    {
     "name": "stdout",
     "output_type": "stream",
     "text": [
      "ciphertext: VKXXN.\n"
     ]
    }
   ],
   "source": [
    "texto = sustitucion(input('plaintext: '))\n"
   ]
  },
  {
   "cell_type": "code",
   "execution_count": null,
   "id": "ea10acf4-4d59-4d25-b115-d2861470b7dc",
   "metadata": {},
   "outputs": [],
   "source": []
  }
 ],
 "metadata": {
  "kernelspec": {
   "display_name": "Python 3",
   "language": "python",
   "name": "python3"
  },
  "language_info": {
   "codemirror_mode": {
    "name": "ipython",
    "version": 3
   },
   "file_extension": ".py",
   "mimetype": "text/x-python",
   "name": "python",
   "nbconvert_exporter": "python",
   "pygments_lexer": "ipython3",
   "version": "3.8.8"
  }
 },
 "nbformat": 4,
 "nbformat_minor": 5
}
