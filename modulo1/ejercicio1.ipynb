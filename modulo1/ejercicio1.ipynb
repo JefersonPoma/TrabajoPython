{
 "cells": [
  {
   "cell_type": "markdown",
   "id": "872dbd45-ad9f-47f8-b5a3-bd1196f80981",
   "metadata": {},
   "source": [
    "# Hello"
   ]
  },
  {
   "cell_type": "markdown",
   "id": "b7dd18c5-70e8-4a00-b4ff-d6c299bae63e",
   "metadata": {},
   "source": [
    "Asegúrese de probar su código para cada uno de los siguientes.\n",
    "\n",
    "- Ejecute su programa como python hello.py y espere a que se le solicite la entrada. Escribe Emmay presiona enter. Su programa debería generar hello, Emma.\n",
    "- Ejecute su programa como python hello.py y espere a que se le solicite la entrada. Escribe Rodrigoy presiona enter. Su programa debería generar hello, Rodrigo."
   ]
  },
  {
   "cell_type": "code",
   "execution_count": 1,
   "id": "1cff882b-6221-4f17-8a5d-07b4f82d9934",
   "metadata": {},
   "outputs": [
    {
     "name": "stdout",
     "output_type": "stream",
     "text": [
      "What is your name?\n"
     ]
    },
    {
     "name": "stdin",
     "output_type": "stream",
     "text": [
      " david\n"
     ]
    },
    {
     "name": "stdout",
     "output_type": "stream",
     "text": [
      "hello, david\n"
     ]
    }
   ],
   "source": [
    "print('What is your name?')\n",
    "nombre = input()\n",
    "print(f'hello, {nombre}')"
   ]
  },
  {
   "cell_type": "markdown",
   "id": "45acd797-6b41-4245-ab33-c08b72a20cda",
   "metadata": {},
   "source": []
  },
  {
   "cell_type": "markdown",
   "id": "ed52b06f-7512-4d13-8d66-b1deb7c2a19d",
   "metadata": {},
   "source": []
  }
 ],
 "metadata": {
  "kernelspec": {
   "display_name": "Python 3",
   "language": "python",
   "name": "python3"
  },
  "language_info": {
   "codemirror_mode": {
    "name": "ipython",
    "version": 3
   },
   "file_extension": ".py",
   "mimetype": "text/x-python",
   "name": "python",
   "nbconvert_exporter": "python",
   "pygments_lexer": "ipython3",
   "version": "3.8.8"
  }
 },
 "nbformat": 4,
 "nbformat_minor": 5
}
