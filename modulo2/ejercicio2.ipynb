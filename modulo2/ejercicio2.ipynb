{
 "cells": [
  {
   "cell_type": "markdown",
   "id": "bc63950c-2620-4b79-a3bd-234bf890b84c",
   "metadata": {},
   "source": [
    "# CIFRADO CESAR"
   ]
  },
  {
   "cell_type": "code",
   "execution_count": 1,
   "id": "2c34f76b-43b9-4bd5-b726-3594ae7f3177",
   "metadata": {},
   "outputs": [],
   "source": [
    "def cifrado (plaintext):\n",
    "    abc = 'ABCDEFGHIJKLMNOPQRSTUVWXYZ'\n",
    "    ciphertext = ''\n",
    "    for i in plaintext:\n",
    "        c = (abc.find(i.upper()) + 1) % 26\n",
    "        ciphertext += abc[c]\n",
    "    print(f'ciphertext: {ciphertext}')"
   ]
  },
  {
   "cell_type": "code",
   "execution_count": 2,
   "id": "0c9132ae-5170-4213-885f-b2546210125e",
   "metadata": {},
   "outputs": [
    {
     "name": "stdin",
     "output_type": "stream",
     "text": [
      "plaintext: hello\n"
     ]
    },
    {
     "name": "stdout",
     "output_type": "stream",
     "text": [
      "ciphertext: IFMMP\n"
     ]
    }
   ],
   "source": [
    "clave = cifrado(input('plaintext:'))"
   ]
  },
  {
   "cell_type": "code",
   "execution_count": null,
   "id": "f404b38f-17cd-43a0-86ce-1908605fee14",
   "metadata": {},
   "outputs": [],
   "source": []
  }
 ],
 "metadata": {
  "kernelspec": {
   "display_name": "Python 3",
   "language": "python",
   "name": "python3"
  },
  "language_info": {
   "codemirror_mode": {
    "name": "ipython",
    "version": 3
   },
   "file_extension": ".py",
   "mimetype": "text/x-python",
   "name": "python",
   "nbconvert_exporter": "python",
   "pygments_lexer": "ipython3",
   "version": "3.8.8"
  }
 },
 "nbformat": 4,
 "nbformat_minor": 5
}
