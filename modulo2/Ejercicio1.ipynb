{
 "cells": [
  {
   "cell_type": "markdown",
   "id": "4fedfd58-c399-4e43-a0d5-3d67ab938537",
   "metadata": {},
   "source": [
    "# MARIO GAME"
   ]
  },
  {
   "cell_type": "markdown",
   "id": "dcf1cefa-fd11-4a02-ab97-755c9def6bd9",
   "metadata": {},
   "source": [
    "## Especificaciones"
   ]
  },
  {
   "cell_type": "markdown",
   "id": "47ee3c64-a56e-4cf4-82ef-70a8d0512364",
   "metadata": {},
   "source": [
    "- Cree un archivo llamado <code>mario.py</code>,el cual es un programa que recrea una media pirámide usando los hash (#) para los bloques.\n",
    "- Para hacer las cosas más interesantes, primero solicite al usuario <code>input</code> la altura de la media pirámide, el cual debe ser un número entero positivo entre <code>1</code> y <code>8</code>, inclusive.\n",
    "- Si el usuario no proporciona un número entero positivo no mayor que <code>8</code>, debe volver a solicitar el mismo.\n",
    "- Luego, genere (con la ayuda de <code>print</code> uno o más bucles) la media pirámide deseada.\n",
    "- Tenga cuidado de alinear la esquina inferior izquierda de su media pirámide con el borde izquierdo de la ventana de su terminal."
   ]
  },
  {
   "cell_type": "code",
   "execution_count": 1,
   "id": "27dc9344-dfb7-4dfe-a813-adccc79e9501",
   "metadata": {},
   "outputs": [],
   "source": [
    "def piramide (altura):\n",
    "    if 1 <= altura <= 8:\n",
    "        for i in range(altura):\n",
    "            print(' ' * (altura - (i+1)) ,'#'* (i+1))\n",
    "    else:\n",
    "        print('Proporcione un entero positivo no mayor que 8')"
   ]
  },
  {
   "cell_type": "code",
   "execution_count": 2,
   "id": "4b5c511d-dcff-4b80-a572-6e29063a33d8",
   "metadata": {},
   "outputs": [
    {
     "name": "stdout",
     "output_type": "stream",
     "text": [
      "Digite la altura de la piramide de altura maximo 8: \n"
     ]
    },
    {
     "name": "stdin",
     "output_type": "stream",
     "text": [
      "height:  6\n"
     ]
    },
    {
     "name": "stdout",
     "output_type": "stream",
     "text": [
      "      #\n",
      "     ##\n",
      "    ###\n",
      "   ####\n",
      "  #####\n",
      " ######\n"
     ]
    }
   ],
   "source": [
    "print('Digite la altura de la piramide de altura maximo 8: ')\n",
    "altura1 = piramide(int(input('height: ')))"
   ]
  },
  {
   "cell_type": "code",
   "execution_count": null,
   "id": "69c6856b-6867-4dca-86b6-22bf3b3ffe39",
   "metadata": {},
   "outputs": [],
   "source": []
  }
 ],
 "metadata": {
  "kernelspec": {
   "display_name": "Python 3",
   "language": "python",
   "name": "python3"
  },
  "language_info": {
   "codemirror_mode": {
    "name": "ipython",
    "version": 3
   },
   "file_extension": ".py",
   "mimetype": "text/x-python",
   "name": "python",
   "nbconvert_exporter": "python",
   "pygments_lexer": "ipython3",
   "version": "3.8.8"
  }
 },
 "nbformat": 4,
 "nbformat_minor": 5
}
